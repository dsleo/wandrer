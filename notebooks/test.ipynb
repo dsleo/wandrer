{
 "cells": [
  {
   "cell_type": "code",
   "execution_count": 1,
   "metadata": {},
   "outputs": [
    {
     "ename": "ImportError",
     "evalue": "cannot import name 'StravaClient' from 'wandrer' (unknown location)",
     "output_type": "error",
     "traceback": [
      "\u001b[0;31m---------------------------------------------------------------------------\u001b[0m",
      "\u001b[0;31mImportError\u001b[0m                               Traceback (most recent call last)",
      "Cell \u001b[0;32mIn[1], line 1\u001b[0m\n\u001b[0;32m----> 1\u001b[0m \u001b[38;5;28;01mfrom\u001b[39;00m \u001b[38;5;21;01mwandrer\u001b[39;00m \u001b[38;5;28;01mimport\u001b[39;00m StravaClient\n\u001b[1;32m      4\u001b[0m strava_credentials \u001b[38;5;241m=\u001b[39m StravaClient(\n\u001b[1;32m      5\u001b[0m     access_token\u001b[38;5;241m=\u001b[39m\u001b[38;5;124m'\u001b[39m\u001b[38;5;124mc50742e984355582328f35f35191bf849e0a4098\u001b[39m\u001b[38;5;124m'\u001b[39m,\n\u001b[1;32m      6\u001b[0m     refresh_token\u001b[38;5;241m=\u001b[39m\u001b[38;5;124m'\u001b[39m\u001b[38;5;124m86b84f2a3a9d1eb288b4b12d2990b7ee1aebfcff\u001b[39m\u001b[38;5;124m'\u001b[39m,\n\u001b[1;32m      7\u001b[0m     client_id\u001b[38;5;241m=\u001b[39m\u001b[38;5;124m'\u001b[39m\u001b[38;5;124m8712\u001b[39m\u001b[38;5;124m'\u001b[39m,\n\u001b[1;32m      8\u001b[0m     client_secret\u001b[38;5;241m=\u001b[39m\u001b[38;5;124m'\u001b[39m\u001b[38;5;124m30509b6d35b37543cfe85bee1018db8fee15e22c\u001b[39m\u001b[38;5;124m'\u001b[39m\n\u001b[1;32m      9\u001b[0m )\n\u001b[1;32m     11\u001b[0m strava_credentials\u001b[38;5;241m.\u001b[39mconfigure_client()\n",
      "\u001b[0;31mImportError\u001b[0m: cannot import name 'StravaClient' from 'wandrer' (unknown location)"
     ]
    }
   ],
   "source": [
    "from wandrer import StravaClient\n",
    "\n",
    "\n",
    "strava_credentials = StravaClient(\n",
    "    access_token='c50742e984355582328f35f35191bf849e0a4098',\n",
    "    refresh_token='86b84f2a3a9d1eb288b4b12d2990b7ee1aebfcff',\n",
    "    client_id='8712',\n",
    "    client_secret='30509b6d35b37543cfe85bee1018db8fee15e22c'\n",
    ")\n",
    "\n",
    "strava_credentials.configure_client()\n",
    "activities = strava_credentials.get_activities()"
   ]
  },
  {
   "cell_type": "code",
   "execution_count": null,
   "metadata": {},
   "outputs": [],
   "source": []
  }
 ],
 "metadata": {
  "kernelspec": {
   "display_name": "venv",
   "language": "python",
   "name": "python3"
  },
  "language_info": {
   "codemirror_mode": {
    "name": "ipython",
    "version": 3
   },
   "file_extension": ".py",
   "mimetype": "text/x-python",
   "name": "python",
   "nbconvert_exporter": "python",
   "pygments_lexer": "ipython3",
   "version": "3.10.13"
  }
 },
 "nbformat": 4,
 "nbformat_minor": 2
}
